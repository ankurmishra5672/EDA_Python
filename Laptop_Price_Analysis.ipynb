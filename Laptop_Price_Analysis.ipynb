{
 "cells": [
  {
   "cell_type": "code",
   "execution_count": 3,
   "id": "2c318606",
   "metadata": {},
   "outputs": [
    {
     "name": "stdout",
     "output_type": "stream",
     "text": [
      "      laptop_ID Company                              Product  \\\n",
      "0             1   Apple                          MacBook Pro   \n",
      "1             2   Apple                          Macbook Air   \n",
      "2             3      HP                               250 G6   \n",
      "3             4   Apple                          MacBook Pro   \n",
      "4             5   Apple                          MacBook Pro   \n",
      "...         ...     ...                                  ...   \n",
      "1298       1316  Lenovo                       Yoga 500-14ISK   \n",
      "1299       1317  Lenovo                       Yoga 900-13ISK   \n",
      "1300       1318  Lenovo                   IdeaPad 100S-14IBR   \n",
      "1301       1319      HP  15-AC110nv (i7-6500U/6GB/1TB/Radeon   \n",
      "1302       1320    Asus  X553SA-XX031T (N3050/4GB/500GB/W10)   \n",
      "\n",
      "                TypeName  Inches                            ScreenResolution  \\\n",
      "0              Ultrabook    13.3          IPS Panel Retina Display 2560x1600   \n",
      "1              Ultrabook    13.3                                    1440x900   \n",
      "2               Notebook    15.6                           Full HD 1920x1080   \n",
      "3              Ultrabook    15.4          IPS Panel Retina Display 2880x1800   \n",
      "4              Ultrabook    13.3          IPS Panel Retina Display 2560x1600   \n",
      "...                  ...     ...                                         ...   \n",
      "1298  2 in 1 Convertible    14.0   IPS Panel Full HD / Touchscreen 1920x1080   \n",
      "1299  2 in 1 Convertible    13.3  IPS Panel Quad HD+ / Touchscreen 3200x1800   \n",
      "1300            Notebook    14.0                                    1366x768   \n",
      "1301            Notebook    15.6                                    1366x768   \n",
      "1302            Notebook    15.6                                    1366x768   \n",
      "\n",
      "                                       Cpu   Ram               Memory  \\\n",
      "0                     Intel Core i5 2.3GHz   8GB            128GB SSD   \n",
      "1                     Intel Core i5 1.8GHz   8GB  128GB Flash Storage   \n",
      "2               Intel Core i5 7200U 2.5GHz   8GB            256GB SSD   \n",
      "3                     Intel Core i7 2.7GHz  16GB            512GB SSD   \n",
      "4                     Intel Core i5 3.1GHz   8GB            256GB SSD   \n",
      "...                                    ...   ...                  ...   \n",
      "1298            Intel Core i7 6500U 2.5GHz   4GB            128GB SSD   \n",
      "1299            Intel Core i7 6500U 2.5GHz  16GB            512GB SSD   \n",
      "1300  Intel Celeron Dual Core N3050 1.6GHz   2GB   64GB Flash Storage   \n",
      "1301            Intel Core i7 6500U 2.5GHz   6GB              1TB HDD   \n",
      "1302  Intel Celeron Dual Core N3050 1.6GHz   4GB            500GB HDD   \n",
      "\n",
      "                               Gpu       OpSys  Weight  Price_euros  \n",
      "0     Intel Iris Plus Graphics 640       macOS  1.37kg      1339.69  \n",
      "1           Intel HD Graphics 6000       macOS  1.34kg       898.94  \n",
      "2            Intel HD Graphics 620       No OS  1.86kg       575.00  \n",
      "3               AMD Radeon Pro 455       macOS  1.83kg      2537.45  \n",
      "4     Intel Iris Plus Graphics 650       macOS  1.37kg      1803.60  \n",
      "...                            ...         ...     ...          ...  \n",
      "1298         Intel HD Graphics 520  Windows 10   1.8kg       638.00  \n",
      "1299         Intel HD Graphics 520  Windows 10   1.3kg      1499.00  \n",
      "1300             Intel HD Graphics  Windows 10   1.5kg       229.00  \n",
      "1301            AMD Radeon R5 M330  Windows 10  2.19kg       764.00  \n",
      "1302             Intel HD Graphics  Windows 10   2.2kg       369.00  \n",
      "\n",
      "[1303 rows x 13 columns]\n"
     ]
    }
   ],
   "source": [
    "import numpy as np\n",
    "import pandas as pd\n",
    "data=pd.read_excel(\"C:/Users/Ankur Mishra/Downloads/laptop_price.xlsx\")\n",
    "data.dropna()\n",
    "print(data)"
   ]
  }
 ],
 "metadata": {
  "kernelspec": {
   "display_name": "Python 3",
   "language": "python",
   "name": "python3"
  },
  "language_info": {
   "codemirror_mode": {
    "name": "ipython",
    "version": 3
   },
   "file_extension": ".py",
   "mimetype": "text/x-python",
   "name": "python",
   "nbconvert_exporter": "python",
   "pygments_lexer": "ipython3",
   "version": "3.13.2"
  }
 },
 "nbformat": 4,
 "nbformat_minor": 5
}
